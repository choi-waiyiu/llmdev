{
 "cells": [
  {
   "cell_type": "code",
   "execution_count": 5,
   "id": "8160b270",
   "metadata": {},
   "outputs": [
    {
     "name": "stdout",
     "output_type": "stream",
     "text": [
      "1300\n",
      "エラー: 残高不足または無効な金額です\n"
     ]
    }
   ],
   "source": [
    "class BankAccount:\n",
    "    def __init__(self, balance: float = 0.0):\n",
    "        self._balance = balance\n",
    "    \n",
    "    def deposit(self, amount: float):\n",
    "        if amount < 0:\n",
    "            print(\"エラー: 正しい金額を入力してください\")\n",
    "        else:\n",
    "            self._balance += amount\n",
    "    \n",
    "    def withdraw(self, amount: float):\n",
    "        if amount > self._balance:\n",
    "            print(\"エラー: 残高不足または無効な金額です\")\n",
    "        else:\n",
    "            self._balance -= amount\n",
    "    \n",
    "    def get_balance(self):\n",
    "        return self._balance\n",
    "\n",
    "account = BankAccount(1000)\n",
    "account.deposit(500)\n",
    "account.withdraw(200)\n",
    "print(account.get_balance())\n",
    "account.withdraw(1500)\n"
   ]
  }
 ],
 "metadata": {
  "kernelspec": {
   "display_name": ".venv",
   "language": "python",
   "name": "python3"
  },
  "language_info": {
   "codemirror_mode": {
    "name": "ipython",
    "version": 3
   },
   "file_extension": ".py",
   "mimetype": "text/x-python",
   "name": "python",
   "nbconvert_exporter": "python",
   "pygments_lexer": "ipython3",
   "version": "3.12.4"
  }
 },
 "nbformat": 4,
 "nbformat_minor": 5
}
