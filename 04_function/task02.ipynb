{
 "cells": [
  {
   "cell_type": "code",
   "execution_count": 4,
   "id": "032a635b",
   "metadata": {},
   "outputs": [
    {
     "name": "stdout",
     "output_type": "stream",
     "text": [
      "Content saved in: 20250805_194352.txt\n"
     ]
    }
   ],
   "source": [
    "from datetime import datetime\n",
    "import urllib.request\n",
    "\n",
    "def save_url_content(url):\n",
    "    response = urllib.request.urlopen(url)\n",
    "    html = response.read().decode(\"utf-8\")\n",
    "    filename = datetime.now().strftime(\"%Y%m%d_%H%M%S.txt\")\n",
    "    with open(filename, \"w\") as file:\n",
    "        file.write(html[:500])\n",
    "    return filename\n",
    "\n",
    "url = input(\"URLを入力してください: \")\n",
    "file_name = save_url_content(url)\n",
    "print(f\"Content saved in: {file_name}\")\n"
   ]
  }
 ],
 "metadata": {
  "kernelspec": {
   "display_name": ".venv",
   "language": "python",
   "name": "python3"
  },
  "language_info": {
   "codemirror_mode": {
    "name": "ipython",
    "version": 3
   },
   "file_extension": ".py",
   "mimetype": "text/x-python",
   "name": "python",
   "nbconvert_exporter": "python",
   "pygments_lexer": "ipython3",
   "version": "3.12.4"
  }
 },
 "nbformat": 4,
 "nbformat_minor": 5
}
