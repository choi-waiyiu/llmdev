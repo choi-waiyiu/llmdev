{
 "cells": [
  {
   "cell_type": "code",
   "execution_count": 2,
   "id": "87be2dc5",
   "metadata": {},
   "outputs": [
    {
     "name": "stdout",
     "output_type": "stream",
     "text": [
      "10年後の金額: 1628.89\n"
     ]
    }
   ],
   "source": [
    "money = float(input(\"元金を入力してください:\"))\n",
    "interest = float(input(\"年利を入力してください:\")) / 100.0\n",
    "\n",
    "for i in range(10):\n",
    "    money *= (1.0 + interest)\n",
    "\n",
    "print(f\"10年後の金額: {money:.2f}\")"
   ]
  }
 ],
 "metadata": {
  "kernelspec": {
   "display_name": ".venv",
   "language": "python",
   "name": "python3"
  },
  "language_info": {
   "codemirror_mode": {
    "name": "ipython",
    "version": 3
   },
   "file_extension": ".py",
   "mimetype": "text/x-python",
   "name": "python",
   "nbconvert_exporter": "python",
   "pygments_lexer": "ipython3",
   "version": "3.12.4"
  }
 },
 "nbformat": 4,
 "nbformat_minor": 5
}
