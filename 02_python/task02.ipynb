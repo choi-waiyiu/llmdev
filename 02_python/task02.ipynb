{
 "cells": [
  {
   "cell_type": "code",
   "execution_count": 6,
   "id": "b7b3fef7",
   "metadata": {},
   "outputs": [
    {
     "name": "stdout",
     "output_type": "stream",
     "text": [
      "送料として350円かかります\n",
      "送料込みの価格は2000円です。\n"
     ]
    }
   ],
   "source": [
    "pre_tax_price = float(input(\"税抜価格を入力してください：\"))\n",
    "after_tax_price = round(pre_tax_price * 1.1)\n",
    "\n",
    "shipping_fee = 0\n",
    "if after_tax_price >= 2000:\n",
    "    print(\"送料は無料です\")\n",
    "else:\n",
    "    print(\"送料として350円かかります\")\n",
    "    shipping_fee = 350\n",
    "\n",
    "total_price = after_tax_price + shipping_fee\n",
    "print(f\"送料込みの価格は{total_price}円です。\")"
   ]
  }
 ],
 "metadata": {
  "kernelspec": {
   "display_name": ".venv",
   "language": "python",
   "name": "python3"
  },
  "language_info": {
   "codemirror_mode": {
    "name": "ipython",
    "version": 3
   },
   "file_extension": ".py",
   "mimetype": "text/x-python",
   "name": "python",
   "nbconvert_exporter": "python",
   "pygments_lexer": "ipython3",
   "version": "3.12.4"
  }
 },
 "nbformat": 4,
 "nbformat_minor": 5
}
