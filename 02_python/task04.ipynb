{
 "cells": [
  {
   "cell_type": "code",
   "execution_count": 6,
   "id": "221fc4bb",
   "metadata": {},
   "outputs": [
    {
     "name": "stdout",
     "output_type": "stream",
     "text": [
      "エラー: 数値を入力してください\n"
     ]
    }
   ],
   "source": [
    "try:\n",
    "    dividend = float(input(\"被除数を入力してください：\"))\n",
    "    divisor = float(input(\"除数を入力してください：\"))\n",
    "    result = dividend / divisor\n",
    "    print(result)\n",
    "except ValueError:\n",
    "    print(\"エラー: 数値を入力してください\")\n",
    "except ZeroDivisionError:\n",
    "    print(\"エラー: 0で割ることはできません\")\n",
    "except Exception as e:\n",
    "    print(f\"予期しないエラーが発生しました: {e}\")"
   ]
  }
 ],
 "metadata": {
  "kernelspec": {
   "display_name": ".venv",
   "language": "python",
   "name": "python3"
  },
  "language_info": {
   "codemirror_mode": {
    "name": "ipython",
    "version": 3
   },
   "file_extension": ".py",
   "mimetype": "text/x-python",
   "name": "python",
   "nbconvert_exporter": "python",
   "pygments_lexer": "ipython3",
   "version": "3.12.4"
  }
 },
 "nbformat": 4,
 "nbformat_minor": 5
}
