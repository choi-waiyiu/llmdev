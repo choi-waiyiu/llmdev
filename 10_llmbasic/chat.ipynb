{
 "cells": [
  {
   "cell_type": "code",
   "execution_count": 1,
   "id": "31eb273a",
   "metadata": {},
   "outputs": [],
   "source": [
    "# 必要なモジュールをインポート\n",
    "import os\n",
    "from dotenv import load_dotenv\n",
    "from openai import OpenAI\n",
    "from pprint import pprint\n",
    "\n",
    "# 環境変数の取得\n",
    "load_dotenv(\"../.env\")\n",
    "\n",
    "# OpenAI APIクライアントを生成\n",
    "client = OpenAI(api_key=os.environ['API_KEY'])\n",
    "\n",
    "# モデル名\n",
    "MODEL_NAME = \"gpt-4o-mini\""
   ]
  },
  {
   "cell_type": "code",
   "execution_count": 2,
   "id": "8bd77f16",
   "metadata": {},
   "outputs": [
    {
     "name": "stdout",
     "output_type": "stream",
     "text": [
      "{'_request_id': 'req_fcc6e92dad9a4958acd0cf08e8579465',\n",
      " 'choices': [Choice(finish_reason='stop', index=0, logprobs=None, message=ChatCompletionMessage(content='言語モデルを使用する際のポイントはいくつかあります。以下にいくつかの重要な点を挙げます。\\n\\n1. **プロンプトの設計**: 明確で具体的なプロンプトを提供することで、期待する出力を得やすくなります。質問の内容や形式に工夫を凝らすと効果的です。\\n\\n2. **文脈の提供**: モデルが応答を生成する際の文脈を考慮しましょう。前後の文や情報を適切に提供することで、より関連性の高い答えが得られます。\\n\\n3. **制約の設定**: モデルに特定の条件やルールを設定することも有効です。例えば、長さやトーン、形式などを指定することで、より目的に合った応答を得られます。\\n\\n4. **フィードバックの利用**: モデルから得られた応答に対してフィードバックを与えることで、次回の応答を改善するためのヒントを得ることができます。特に反復的なタスクでは重要です。\\n\\n5. **出力の精査**: モデルが生成した出力が正確かつ適切であるかを確認することが重要です。特に、専門的な情報や重要な決定に関しては、信頼性をチェックすることが必要です。\\n\\n6. **倫理的配慮**: モデルを利用する際、生成されるコンテンツに倫理的な配慮が求められます。誤情報や偏見を助長しないように注意が必要です。\\n\\n7. **多様な用途の探索**: 言語モデルは多様なタスクに応じて使用できます。質問応答、文書生成、要約など、用途を広げてみることで新しい活用方法が見つかるかもしれません。\\n\\n8. **限界の理解**: 言語モデルには限界があります。特に最新の情報や個別のデータに基づいた正確性には注意が必要です。\\n\\nこれらのポイントを考慮して、言語モデルをより効果的に活用することができるでしょう。', refusal=None, role='assistant', audio=None, function_call=None, tool_calls=None, annotations=[]))],\n",
      " 'created': 1754548047,\n",
      " 'id': 'chatcmpl-C1oNzfML3rQTXr92gMv19yuZVbCQe',\n",
      " 'model': 'gpt-4o-mini-2024-07-18',\n",
      " 'object': 'chat.completion',\n",
      " 'service_tier': 'default',\n",
      " 'system_fingerprint': 'fp_34a54ae93c',\n",
      " 'usage': CompletionUsage(completion_tokens=512, prompt_tokens=18, total_tokens=530, completion_tokens_details=CompletionTokensDetails(accepted_prediction_tokens=0, audio_tokens=0, reasoning_tokens=0, rejected_prediction_tokens=0), prompt_tokens_details=PromptTokensDetails(audio_tokens=0, cached_tokens=0))}\n"
     ]
    }
   ],
   "source": [
    "# メッセージの設定\n",
    "message = \"言語モデルを使う上でのポイントは\"\n",
    "\n",
    "# APIへリクエスト\n",
    "response = client.chat.completions.create(\n",
    "    model=MODEL_NAME,\n",
    "    messages=[\n",
    "        {\"role\": \"user\", \"content\": message},\n",
    "    ]\n",
    ")\n",
    "\n",
    "# レスポンスの表示\n",
    "pprint(vars(response))"
   ]
  },
  {
   "cell_type": "code",
   "execution_count": 3,
   "id": "aa148c7f",
   "metadata": {},
   "outputs": [
    {
     "name": "stdout",
     "output_type": "stream",
     "text": [
      "言語モデルを使用する際のポイントはいくつかあります。以下にいくつかの重要な点を挙げます。\n",
      "\n",
      "1. **プロンプトの設計**: 明確で具体的なプロンプトを提供することで、期待する出力を得やすくなります。質問の内容や形式に工夫を凝らすと効果的です。\n",
      "\n",
      "2. **文脈の提供**: モデルが応答を生成する際の文脈を考慮しましょう。前後の文や情報を適切に提供することで、より関連性の高い答えが得られます。\n",
      "\n",
      "3. **制約の設定**: モデルに特定の条件やルールを設定することも有効です。例えば、長さやトーン、形式などを指定することで、より目的に合った応答を得られます。\n",
      "\n",
      "4. **フィードバックの利用**: モデルから得られた応答に対してフィードバックを与えることで、次回の応答を改善するためのヒントを得ることができます。特に反復的なタスクでは重要です。\n",
      "\n",
      "5. **出力の精査**: モデルが生成した出力が正確かつ適切であるかを確認することが重要です。特に、専門的な情報や重要な決定に関しては、信頼性をチェックすることが必要です。\n",
      "\n",
      "6. **倫理的配慮**: モデルを利用する際、生成されるコンテンツに倫理的な配慮が求められます。誤情報や偏見を助長しないように注意が必要です。\n",
      "\n",
      "7. **多様な用途の探索**: 言語モデルは多様なタスクに応じて使用できます。質問応答、文書生成、要約など、用途を広げてみることで新しい活用方法が見つかるかもしれません。\n",
      "\n",
      "8. **限界の理解**: 言語モデルには限界があります。特に最新の情報や個別のデータに基づいた正確性には注意が必要です。\n",
      "\n",
      "これらのポイントを考慮して、言語モデルをより効果的に活用することができるでしょう。\n"
     ]
    }
   ],
   "source": [
    "# 言語モデルからの回答を表示\n",
    "print(response.choices[0].message.content.strip())"
   ]
  },
  {
   "cell_type": "code",
   "execution_count": 4,
   "id": "50d3dd69",
   "metadata": {},
   "outputs": [
    {
     "name": "stdout",
     "output_type": "stream",
     "text": [
      "新製品の発売に向けた効果的なマーケティング戦略は、多角的なアプローチが重要です。以下のステップに従って、戦略を構築することをお勧めします。\n",
      "\n",
      "### 1. 市場調査とターゲット設定\n",
      "- **市場調査**: 競合分析やトレンドを把握し、顧客のニーズを理解します。\n",
      "- **ターゲットオーディエンスの特定**: 年齢、性別、趣味、購買行動などから明確なペルソナを作成します。\n",
      "\n",
      "### 2. USP（ユニーク・セリング・プロポジション）の明確化\n",
      "- **製品の独自性**: 製品が持つ特有の機能や利点を強調するポイントを特定します。他社製品と比べて何が優れているのかを明確にします。\n",
      "\n",
      "### 3. マルチチャネルプロモーションの展開\n",
      "- **SNSの活用**: 消費者が多く集まるプラットフォーム（Instagram、Twitter、Facebookなど）を使って、製品の発表やプロモーションを行います。\n",
      "- **インフルエンサーとの連携**: ターゲットオーディエンスに影響を与えるインフルエンサーと協力して製品を紹介してもらいます。\n",
      "- **メールマーケティング**: 潜在顧客に向けてニュースレターを配信し、発売日や特典を告知します。\n",
      "\n",
      "### 4. コンテンツマーケティング\n",
      "- **ブログや動画の制作**: 製品の使用方法、利点、ストーリーなどを紹介するコンテンツを制作します。SEO対策を施し、検索エンジンからのトラフィックを狙います。\n",
      "\n",
      "### 5. プレローンチキャンペーン\n",
      "- **ティザーキャンペーン**: 製品発売前に興味を引くためのティザー広告を展開し、期待感を高めます。\n",
      "- **プレオーダーの実施**: 早期の購入を促進するためのプレオーダーを設定し、特典を提供します。\n",
      "\n",
      "### 6. 発売イベントの開催\n",
      "- **オンラインまたはオフラインのローンチイベント**: 特別なイベントを開催し、メディアやインフルエンサーを招待して製品を直接体験してもらいます。\n",
      "\n",
      "### 7. フィードバックの収集\n",
      "- **初期の顧客からの評価**: 発売後に顧客のフィードバックを収集し、リアルタイムでの改善点やマーケティング戦略の見直しを行います。\n",
      "\n",
      "### 8. アフターケアと関係構築\n",
      "- **顧客サポートとフォローアップ**: 購入後のサポートを強化し、顧客との関係を深めることでリピーターを獲得します。\n",
      "\n",
      "これらの戦略を組み合わせることで、新製品の発売が成功する可能性を高めることができます。重要なのは、常に市場のトレンドを意識し、柔軟に戦略を見直すことです。\n"
     ]
    }
   ],
   "source": [
    "# 役割や前提の設定\n",
    "role = \"あなたはマーケティング分野に精通したビジネスコンサルタントです。企業の成長をサポートするために、効果的なマーケティング戦略を提供します。\"\n",
    "\n",
    "# メッセージの設定\n",
    "message = \"新製品の発売に向けた効果的なマーケティング戦略を教えてください。\"\n",
    "\n",
    "# APIへリクエスト\n",
    "response = client.chat.completions.create(\n",
    "    model=MODEL_NAME,\n",
    "    messages=[\n",
    "        {\"role\": \"system\", \"content\": role},\n",
    "        {\"role\": \"user\", \"content\": message},\n",
    "    ],\n",
    ")\n",
    "\n",
    "# 言語モデルからの回答を表示\n",
    "print(response.choices[0].message.content.strip())"
   ]
  },
  {
   "cell_type": "code",
   "execution_count": 5,
   "id": "d93e1fe7",
   "metadata": {},
   "outputs": [
    {
     "name": "stdout",
     "output_type": "stream",
     "text": [
      "--------------------\n",
      "日本は魅力的な国で、多様な文化や美しい自然、豊かな歴史があります。以下は日本のいくつかの魅力的な要素です。\n",
      "\n",
      "1. **伝統文化**: 赤い鳥居や古びた寺社など、日本の伝統的な建築物や文化が至る所に残っています。着物や茶道、和食など、歴史とともに受け継がれてき\n",
      "--------------------\n",
      "日本には多くの魅力があります。以下にいくつかのポイントを紹介します。\n",
      "\n",
      "1. **伝統文化**: 日本には、古い建築物や伝統的な祭り、和服（着物や浴衣）、茶道、其の他にもたくさんの文化が漂っています。毎年開催される日本の祭りや行事を通じて、歴史と文化を体験することができます。\n",
      "\n",
      "2\n",
      "--------------------\n",
      "もちろんです！日本の魅力は多岐にわたりますが、以下にいくつかのポイントを挙げてみます。\n",
      "\n",
      "### 1. 文化と伝統\n",
      "日本は独自の文化と伝統を持つ国です。すき焼きや寿司、抹茶など独特の食文化が成り立っています。江戸風情の残る街並みや季節ごとの祭りや行\n"
     ]
    }
   ],
   "source": [
    "# 出力の多様性\n",
    "message = \"日本の魅力を紹介して！\"\n",
    "\n",
    "# APIへリクエスト\n",
    "response = client.chat.completions.create(\n",
    "    model=MODEL_NAME,\n",
    "    messages=[\n",
    "        {\"role\": \"user\", \"content\": message},\n",
    "    ],\n",
    "    temperature=1.4,\n",
    "    n = 3, # 3回答を得る\n",
    "    max_completion_tokens = 100 # 出力トークン長を制限\n",
    ")\n",
    "\n",
    "# 結果を表示（複数回答を比較）\n",
    "for choice in response.choices:\n",
    "    print(\"-\" * 20)\n",
    "    print(choice.message.content.strip())"
   ]
  },
  {
   "cell_type": "code",
   "execution_count": 6,
   "id": "05a6eb1c",
   "metadata": {},
   "outputs": [
    {
     "name": "stdout",
     "output_type": "stream",
     "text": [
      "--------------------\n",
      "もちろん、日本の魅力は多岐にわたります。以下にいくつかのポイントを挙げてみます。\n",
      "\n",
      "### 1. 文化と伝統\n",
      "日本の伝統文化は非常にリッチです。茶道や花道、武道、伝統的な祭りや行事は、日本の深い歴史と精神性を反映しています。伝統的な衣装や建築様式も魅力的\n",
      "--------------------\n",
      "もちろん、日本の魅力をいくつか紹介しますね。\n",
      "\n",
      "1. **文化と歴史**: 日本は古代からの豊かな歴史と文化を持っています。神社や寺、伝統的な祭り、茶道や書道といった伝統文化は、日本のアイデンティティの一部です。\n",
      "\n",
      "2. **美しい自然**: 日本は四季がはっきりしており、季節ごと\n",
      "--------------------\n",
      "もちろんです！日本は多様な魅力を持った国で、以下のような点が特に素晴らしいです。\n",
      "\n",
      "### 1. 文化と伝統\n",
      "日本は古代からの伝統と文化が色濃く残る国です。お祭り、茶道、和歌、伝統的な舞台芸術（例えば、歌舞伎や能）など、様々な伝統文化が楽しめます\n"
     ]
    }
   ],
   "source": [
    "# 出力の多様性\n",
    "message = \"日本の魅力を紹介して！\"\n",
    "\n",
    "# APIへリクエスト\n",
    "response = client.chat.completions.create(\n",
    "    model=MODEL_NAME,\n",
    "    messages=[\n",
    "        {\"role\": \"user\", \"content\": message},\n",
    "    ],\n",
    "    presence_penalty=-2.0,\n",
    "    n = 3, # 3回答を得る\n",
    "    max_completion_tokens = 100 # 出力トークン長を制限\n",
    ")\n",
    "\n",
    "# 結果を表示（複数回答を比較）\n",
    "for choice in response.choices:\n",
    "    print(\"-\" * 20)\n",
    "    print(choice.message.content.strip())"
   ]
  },
  {
   "cell_type": "code",
   "execution_count": 7,
   "id": "a092ef94",
   "metadata": {},
   "outputs": [
    {
     "name": "stdout",
     "output_type": "stream",
     "text": [
      "tokens_count=2\n",
      "tokens=[95839, 3393]\n"
     ]
    }
   ],
   "source": [
    "import tiktoken\n",
    "from tiktoken.core import Encoding\n",
    "\n",
    "# OpenAI APIの特定のモデルに対応するトークナイザーを取得\n",
    "encoding: Encoding = tiktoken.encoding_for_model(MODEL_NAME) # o200k_base\n",
    "\n",
    "# テキストをトークンIDのリストに変換\n",
    "tokens = encoding.encode(\"こんにちは！\")\n",
    "tokens_count = len(tokens)\n",
    "\n",
    "# トークンの長さとトークンIDを表示\n",
    "print(f\"{tokens_count=}\")\n",
    "print(f\"{tokens=}\")"
   ]
  },
  {
   "cell_type": "code",
   "execution_count": 8,
   "id": "95a03d8d",
   "metadata": {},
   "outputs": [
    {
     "name": "stdout",
     "output_type": "stream",
     "text": [
      "--------------------\n",
      "B:こんにちは、Aさん！最近どうですか？\n",
      "--------------------\n",
      "B:こんにちは！Aさん、元気ですか？\n",
      "--------------------\n",
      "B:こんにちは、Aさん！今日はどんな気分ですか？\n"
     ]
    }
   ],
   "source": [
    "# トークンの選択度合い\n",
    "message = \"\"\"\n",
    "AさんとBさんで会話してください。\n",
    "A:あ、Bさんだ。\n",
    "B:\n",
    "\"\"\"\n",
    "\n",
    "# APIへリクエスト\n",
    "response = client.chat.completions.create(\n",
    "    model=MODEL_NAME,\n",
    "    messages=[\n",
    "        {\"role\": \"user\", \"content\": message},\n",
    "    ],\n",
    "    max_tokens=100,\n",
    "    n=3,\n",
    "    logit_bias = {95839:8, 3393:8}\n",
    ")\n",
    "\n",
    "# 結果を表示\n",
    "for choice in response.choices:\n",
    "    print(\"-\" * 20)\n",
    "    print(choice.message.content.strip())"
   ]
  },
  {
   "cell_type": "code",
   "execution_count": 9,
   "id": "9958865f",
   "metadata": {},
   "outputs": [
    {
     "name": "stdout",
     "output_type": "stream",
     "text": [
      "言語モデルを効果的に使用するためのポイントはいくつかあります。以下にいくつかの重要な点を挙げます。\n",
      "\n",
      "1. **明確な指示を与える**: 指示を明確にすることで、モデルは期待される応答を理解しやすくなります。具体的な質問やタスクを提示することが重要です。\n",
      "\n",
      "2. **コンテキストの提供**: 質問やリクエストに関連する背景情報やコンテキストを与えると、より正確な応答が得られることがあります。\n",
      "\n",
      "3. **フィードバックを利用する**: モデルからの応答に満足できない場合、具体的にどの部分が不十分かを指摘し、再度リクエストすることで、より良い結果を得られることがあります。\n",
      "\n",
      "4. **モデルの限界を理解する**: 言語モデルは情報を生成するものであり、必ずしも正確な情報や最新の知識を提供するわけではありません。特に、専門的な分野や最新のトピックに関しては注意が必要です。\n",
      "\n",
      "5. **反復する**: 出力が期待通りでない場合、言い回しを変えたり、異なる視点から再度問いかけてみることが有効です。\n",
      "\n",
      "6. **用途の選定**: 言語モデルには様々な用途があります。情報収集、コンテンツ制作、プログラミング支援、言語学習など、それぞれの目的に応じたアプローチを考えることが重要です。\n",
      "\n",
      "7. **倫理的な配慮**: モデルを使用する際には、倫理的な観点からも考慮が必要です。偽情報の拡散や偏見の助長を避けるため、適切に使用することが求められます。\n",
      "\n",
      "これらのポイントを踏まえ、言語モデルを活用してみてください。"
     ]
    }
   ],
   "source": [
    "# メッセージの設定\n",
    "message = \"言語モデルを使う上でのポイントは\"\n",
    "\n",
    "# APIへリクエスト\n",
    "stream = client.chat.completions.create(\n",
    "    model=MODEL_NAME,\n",
    "    messages=[\n",
    "        {\"role\": \"user\", \"content\": message},\n",
    "    ],\n",
    "    stream=True,\n",
    ")\n",
    "\n",
    "for chunk in stream:\n",
    "    if chunk.choices:\n",
    "        if chunk.choices[0].delta.content is not None:\n",
    "            print(chunk.choices[0].delta.content, end=\"\")"
   ]
  }
 ],
 "metadata": {
  "kernelspec": {
   "display_name": ".venv",
   "language": "python",
   "name": "python3"
  },
  "language_info": {
   "codemirror_mode": {
    "name": "ipython",
    "version": 3
   },
   "file_extension": ".py",
   "mimetype": "text/x-python",
   "name": "python",
   "nbconvert_exporter": "python",
   "pygments_lexer": "ipython3",
   "version": "3.12.4"
  }
 },
 "nbformat": 4,
 "nbformat_minor": 5
}
