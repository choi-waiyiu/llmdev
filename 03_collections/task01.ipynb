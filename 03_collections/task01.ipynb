{
 "cells": [
  {
   "cell_type": "code",
   "execution_count": 8,
   "id": "34a92fb9",
   "metadata": {},
   "outputs": [
    {
     "name": "stdout",
     "output_type": "stream",
     "text": [
      "平均点: 86.6\n",
      "最高点: 92\n",
      "最低点: 78\n",
      "平均以上の学生数: 3\n"
     ]
    }
   ],
   "source": [
    "grades = [85, 90, 78, 92, 88]\n",
    "average_score = sum(grades) / len(grades)\n",
    "max_score = max(grades)\n",
    "min_score = min(grades)\n",
    "above_average_count = len([score for score in grades if score > average_score])\n",
    "\n",
    "print(f\"平均点: {average_score}\")\n",
    "print(f\"最高点: {max_score}\")\n",
    "print(f\"最低点: {min_score}\")\n",
    "print(f\"平均以上の学生数: {above_average_count}\")"
   ]
  }
 ],
 "metadata": {
  "kernelspec": {
   "display_name": ".venv",
   "language": "python",
   "name": "python3"
  },
  "language_info": {
   "codemirror_mode": {
    "name": "ipython",
    "version": 3
   },
   "file_extension": ".py",
   "mimetype": "text/x-python",
   "name": "python",
   "nbconvert_exporter": "python",
   "pygments_lexer": "ipython3",
   "version": "3.12.4"
  }
 },
 "nbformat": 4,
 "nbformat_minor": 5
}
