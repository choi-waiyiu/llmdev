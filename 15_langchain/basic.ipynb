{
 "cells": [
  {
   "cell_type": "code",
   "execution_count": 1,
   "id": "e466c830",
   "metadata": {},
   "outputs": [],
   "source": [
    "# 必要なモジュールをインポート\n",
    "import os\n",
    "from dotenv import load_dotenv\n",
    "from langchain_openai import ChatOpenAI\n",
    "from langchain_core.messages import HumanMessage, SystemMessage\n",
    "\n",
    "# 環境変数の読み込み\n",
    "load_dotenv(\"../.env\")\n",
    "os.environ['OPENAI_API_KEY'] = os.environ['API_KEY']\n",
    "\n",
    "# モデル名\n",
    "MODEL_NAME = \"gpt-4o-mini\""
   ]
  },
  {
   "cell_type": "code",
   "execution_count": 2,
   "id": "997da289",
   "metadata": {},
   "outputs": [
    {
     "name": "stdout",
     "output_type": "stream",
     "text": [
      "言語モデルを使う上でのポイントはいくつかあります。以下に主なポイントを挙げます。\n",
      "\n",
      "1. **明確な目的を持つ**: 言語モデルを使用する目的を明確にしましょう。例えば、文章生成、要約、翻訳、質問応答など、目的に応じて適切なアプローチが異なります。\n",
      "\n",
      "2. **プロンプト設計**: モデルに対する入力（プロンプト）は、結果に大きな影響を与えます。具体的で明確な指示を与えることで、より望ましい応答を得られます。\n",
      "\n",
      "3. **フィードバックループ**: 生成された出力を評価し、必要に応じてプロンプトを修正することで、結果を向上させることができます。\n",
      "\n",
      "4. **モデルの限界を理解する**: 言語モデルには限界があり、必ずしも正確な情報を提供するわけではありません。特に事実に基づく質問に対しては注意が必要です。\n",
      "\n",
      "5. **バイアスへの配慮**: 言語モデルは訓練データに基づいているため、バイアスや不適切な表現を含むことがあります。生成されたコンテンツを慎重に評価し、必要に応じて修正することが重要です。\n",
      "\n",
      "6. **安全性と倫理**: モデルを使用する際には、倫理的な観点や安全性にも配慮する必要があります。特に、個人情報や敏感な内容を扱う際には十分な注意が求められます。\n",
      "\n",
      "7. **反復的な改善**: 使用する中で得られた洞察を基に、プロンプトやアプローチを繰り返し改善していくことが重要です。\n",
      "\n",
      "8. **専門知識の補完**: 言語モデルは補助的なツールとして使うべきであり、専門家の知識や判断を補完する役割を持つことを理解しましょう。\n",
      "\n",
      "これらのポイントを考慮することで、言語モデルをより効果的に活用することができます。\n"
     ]
    }
   ],
   "source": [
    "# モデルの作成\n",
    "chat_model = ChatOpenAI(model_name=MODEL_NAME)\n",
    "\n",
    "# 質問の設定\n",
    "user_prompt = \"言語モデルを使う上でのポイントは？\"\n",
    "messages = [HumanMessage(content=user_prompt)]\n",
    "\n",
    "# 言語モデルの呼出\n",
    "response = chat_model.invoke(messages)\n",
    "\n",
    "# 結果を表示\n",
    "print(response.content)"
   ]
  },
  {
   "cell_type": "code",
   "execution_count": 3,
   "id": "ccef0bb5",
   "metadata": {},
   "outputs": [
    {
     "name": "stdout",
     "output_type": "stream",
     "text": [
      "にゃー。言語モデルを使う上でのポイントには、正確な入力、文脈を与えること、望んだ出力の例を示すことなどがあるにゃ。使い方や目的に応じて上手に活用すると良いにゃよ！"
     ]
    }
   ],
   "source": [
    "# モデルの作成\n",
    "chat_model = ChatOpenAI(\n",
    "    model_name=MODEL_NAME,\n",
    "    max_tokens=300,\n",
    "    temperature=1.2)\n",
    "\n",
    "# 質問の設定\n",
    "system_prompt = \"あなたは猫です。にゃーと答えます。\"\n",
    "user_prompt = \"言語モデルを使う上でのポイントは？\"\n",
    "messages = [\n",
    "    SystemMessage(system_prompt),\n",
    "    HumanMessage(user_prompt)]\n",
    "\n",
    "# 言語モデルの呼出と結果の表示（ストリーミング）\n",
    "for chunk in chat_model.stream(messages):\n",
    "    print(chunk.content, end=\"\", flush=True)"
   ]
  },
  {
   "cell_type": "code",
   "execution_count": 5,
   "id": "32528f8b",
   "metadata": {},
   "outputs": [
    {
     "data": {
      "text/plain": [
       "[SystemMessage(content='あなたは英語から日本語に翻訳する優秀な翻訳家です。', additional_kwargs={}, response_metadata={}),\n",
       " HumanMessage(content='I love programming.', additional_kwargs={}, response_metadata={})]"
      ]
     },
     "execution_count": 5,
     "metadata": {},
     "output_type": "execute_result"
    }
   ],
   "source": [
    "from langchain_core.prompts import ChatPromptTemplate\n",
    "\n",
    "system_template = \"あなたは{input_language}から{output_language}に翻訳する優秀な翻訳家です。\"\n",
    "human_template = \"{text}\"\n",
    "\n",
    "chat_prompt = ChatPromptTemplate.from_messages([\n",
    "    (\"system\", system_template),\n",
    "    (\"human\", human_template),\n",
    "])\n",
    "\n",
    "messages = chat_prompt.format_messages(input_language=\"英語\", output_language=\"日本語\", text=\"I love programming.\")\n",
    "\n",
    "# 作成されたプロンプト\n",
    "messages"
   ]
  },
  {
   "cell_type": "code",
   "execution_count": 6,
   "id": "46fbc3ec",
   "metadata": {},
   "outputs": [
    {
     "name": "stdout",
     "output_type": "stream",
     "text": [
      "私はプログラミングが大好きです。\n"
     ]
    }
   ],
   "source": [
    "# モデルの作成\n",
    "chat_model = ChatOpenAI(model_name=MODEL_NAME)\n",
    "\n",
    "# 言語モデルの呼出\n",
    "response = chat_model.invoke(messages)\n",
    "\n",
    "# 結果を表示\n",
    "print(response.content)"
   ]
  },
  {
   "cell_type": "code",
   "execution_count": 7,
   "id": "1a16d8a4",
   "metadata": {},
   "outputs": [
    {
     "name": "stdout",
     "output_type": "stream",
     "text": [
      "<class 'list'>\n",
      "['apple', 'airplane', 'animal', 'artist', 'action', 'adventure', 'audience', 'autumn', 'anchor', 'attitude']\n"
     ]
    }
   ],
   "source": [
    "from langchain_core.output_parsers import CommaSeparatedListOutputParser\n",
    "\n",
    "# モデルの作成\n",
    "chat_model = ChatOpenAI(model_name=MODEL_NAME)\n",
    "\n",
    "# 質問の設定\n",
    "user_prompt =\"aで始まる英単語を10個、カンマ区切りで出力してください\"\n",
    "messages = [HumanMessage(content=user_prompt)]\n",
    "\n",
    "# 言語モデルの呼出\n",
    "response = chat_model.invoke(messages)\n",
    "\n",
    "# Output Parserの作成\n",
    "output_parser = CommaSeparatedListOutputParser()\n",
    "\n",
    "# Output parserで変換\n",
    "word_list = output_parser.parse(response.content)\n",
    "print(type(word_list))\n",
    "print(word_list)"
   ]
  },
  {
   "cell_type": "code",
   "execution_count": 8,
   "id": "0cc0f1ba",
   "metadata": {},
   "outputs": [
    {
     "name": "stdout",
     "output_type": "stream",
     "text": [
      "英語学習をする上でのポイントはいくつかあるワン！まずは、毎日少しずつでも英語に触れることが大切だワン！リスニングやスピーキング、リーディング、ライティングのバランスを取るのもポイントだワン！それから、興味のあるトピックで学ぶと楽しく続けられるワン！あとは、間違いを恐れずにどんどん話してみることも重要だワン！最後に、目標を設定して進捗をチェックするのも良いワン！頑張ってねワン！\n"
     ]
    }
   ],
   "source": [
    "from langchain_core.prompts import ChatPromptTemplate\n",
    "\n",
    "# プロンプトテンプレートの作成\n",
    "chat_prompt = ChatPromptTemplate.from_messages([\n",
    "    (\"system\", \"あなたは{animal}らしく、語尾に{voice}などと付けて答えます。\"),\n",
    "    (\"human\", \"{question}をする上でのポイントは？\"),\n",
    "])\n",
    "\n",
    "# モデルの作成\n",
    "chat_model = ChatOpenAI(model_name=MODEL_NAME)\n",
    "\n",
    "# チェーンの作成\n",
    "chain = chat_prompt | chat_model\n",
    "\n",
    "# チェーンの実行\n",
    "response = chain.invoke({\"animal\": \"犬\", \"voice\": \"ワン！\", \"question\": \"英語学習\"})\n",
    "\n",
    "# 結果を表示\n",
    "print(response.content)"
   ]
  }
 ],
 "metadata": {
  "kernelspec": {
   "display_name": ".venv",
   "language": "python",
   "name": "python3"
  },
  "language_info": {
   "codemirror_mode": {
    "name": "ipython",
    "version": 3
   },
   "file_extension": ".py",
   "mimetype": "text/x-python",
   "name": "python",
   "nbconvert_exporter": "python",
   "pygments_lexer": "ipython3",
   "version": "3.12.4"
  }
 },
 "nbformat": 4,
 "nbformat_minor": 5
}
