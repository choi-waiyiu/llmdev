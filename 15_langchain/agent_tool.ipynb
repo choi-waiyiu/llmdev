{
 "cells": [
  {
   "cell_type": "code",
   "execution_count": 1,
   "id": "665fdb71",
   "metadata": {},
   "outputs": [],
   "source": [
    "# 必要なモジュールをインポート\n",
    "import os\n",
    "from dotenv import load_dotenv\n",
    "from langchain_openai import ChatOpenAI\n",
    "\n",
    "# 環境変数の読み込み\n",
    "load_dotenv(\"../.env\")\n",
    "os.environ['OPENAI_API_KEY'] = os.environ['API_KEY']\n",
    "\n",
    "# モデル名\n",
    "MODEL_NAME = \"gpt-4o-mini\""
   ]
  },
  {
   "cell_type": "code",
   "execution_count": 2,
   "id": "b8e3c660",
   "metadata": {},
   "outputs": [],
   "source": [
    "# 検索ツールの定義\n",
    "from langchain_community.tools.tavily_search import TavilySearchResults\n",
    "\n",
    "tool = TavilySearchResults(max_results=2)\n",
    "tools = [tool]"
   ]
  },
  {
   "cell_type": "code",
   "execution_count": 3,
   "id": "051699ec",
   "metadata": {},
   "outputs": [
    {
     "data": {
      "text/plain": [
       "[{'url': 'https://zenn.dev/pharmax/articles/8796b892eed183',\n",
       "  'content': 'Nodeは、Graph上で実際のステップを実行するコンポーネントです。例えば実際にLangChainを使用してLLMのモデルを呼び出す処理は、Node上で行います。\\n\\nNodeでは、`(State、Config) -> 変更するState`というシグネチャを持つ関数を使うことができます。 [...] | コンポーネント | 説明 |\\n| --- | --- |\\n| Graph | LangGraphの中核となる構成要素で、各NodeとEdgeの集合体です。 |\\n| State | ノード間の遷移の際に保持される情報で、各ノードが参照および更新します。 |\\n| Node | グラフ内の個々のステップや状態を表す要素で、特定のアクションやチェックポイントとして機能します。 |\\n| Edge | ノード間の接続を表し、遷移の条件やアクションを定義します。条件付きエッジなど、特定のロジックに基づいて遷移を制御できます。 |\\n\\n## Graph\\n\\nGraphは、LangGraphの中核となるグラフ全体を管理するためのコンポーネントです。基本的な使い方としては、`StateGraph`というクラスを使い、後述するStateとセットで初期化します。\\n\\n`StateGraph`\\n\\n（StateGraphの宣言例）'},\n",
       " {'url': 'https://www.supinf.co.jp/tech-blog/details/about-langgraph/',\n",
       "  'content': '| å\\x90\\x8då\\x89\\x8d | èª¬æ\\x98\\x8e |\\n| --- | --- |\\n| name | `Edge` ã\\x82\\x92è¿½å\\x8a ã\\x81\\x99ã\\x82\\x8bã\\x81¨ã\\x81\\x8dã\\x81« `Node` ã\\x82\\x92å\\x8f\\x82ç\\x85§ã\\x81\\x99ã\\x82\\x8bã\\x81\\x9fã\\x82\\x81ã\\x81®æ\\x96\\x87å\\xad\\x97å\\x88\\x97ã\\x80\\x82 |\\n| value | å\\x91¼ã\\x81³å\\x87ºã\\x81\\x95ã\\x82\\x8cã\\x82\\x8bé\\x96¢æ\\x95°ã\\x81¾ã\\x81\\x9fã\\x81¯ LCEL Runnableã\\x80\\x82ä¸\\x8aè¨\\x98ã\\x81® `State` ã\\x82ªã\\x83\\x96ã\\x82¸ã\\x82§ã\\x82¯ã\\x83\\x88ã\\x81¨å\\x90\\x8cã\\x81\\x98æ§\\x8bé\\x80 ã\\x81®ã\\x83\\x87ã\\x82£ã\\x82¯ã\\x82·ã\\x83§ã\\x83\\x8aã\\x83ªã\\x82\\x92å¼\\x95æ\\x95°ã\\x81¨ã\\x81\\x97ã\\x81¦å\\x8f\\x97ã\\x81\\x91å\\x8f\\x96ã\\x82\\x8aã\\x80\\x81å\\x90\\x8cæ§\\x98ã\\x81®æ§\\x8bé\\x80 ã\\x81§æ\\x9b´æ\\x96°ã\\x81\\x95ã\\x82\\x8cã\\x81\\x9fç\\x8a¶æ\\x85\\x8bã\\x82\\x92è¿\\x94ã\\x81\\x99å¿\\x85è¦\\x81ã\\x81\\x8cã\\x81\\x82ã\\x82\\x8bã\\x80\\x82 |\\n\\n`Edge`\\n`Node`\\n`State`\\n\\nã\\x81¾ã\\x81\\x9fã\\x80\\x81ã\\x82µã\\x82¤ã\\x82¯ã\\x83«ã\\x81®çµ\\x82äº\\x86ã\\x82\\x92è¡¨ã\\x81\\x99ç\\x89¹å\\x88¥ã\\x81ª `Node` ã\\x81¨ã\\x81\\x97ã\\x81¦ `End` ã\\x81\\x8cç\\x94¨æ\\x84\\x8fã\\x81\\x95ã\\x82\\x8cã\\x81¦ã\\x81\\x84ã\\x81¾ã\\x81\\x99ã\\x80\\x82 [...] `Node` ã\\x81¯å\\x85·ä½\\x93ç\\x9a\\x84ã\\x81ªå\\x87¦ç\\x90\\x86ã\\x82\\x92è¡\\x8cã\\x81\\x86è¦\\x81ç´ ã\\x81§ã\\x80\\x81`name` ã\\x81¨ `value` ã\\x82\\x92æ\\x8c\\x87å®\\x9aã\\x81\\x97ã\\x81¦ä»¥ä¸\\x8bã\\x81®ã\\x82\\x88ã\\x81\\x86ã\\x81ªè¨\\x98è¿°ã\\x81§è¿½å\\x8a ã\\x81\\x99ã\\x82\\x8bã\\x81\\x93ã\\x81¨ã\\x81\\x8cã\\x81§ã\\x81\\x8dã\\x81¾ã\\x81\\x99ã\\x80\\x82\\n\\n`Node`\\n`name`\\n`value`\\n`graph.add_node(name, value)`\\n\\nå\\x90\\x84ã\\x83\\x91ã\\x83©ã\\x83¡ã\\x83¼ã\\x82¿ã\\x81®èª¬æ\\x98\\x8eã\\x81¯ã\\x81\\x9dã\\x82\\x8cã\\x81\\x9eã\\x82\\x8cä¸\\x8bè¨\\x98ã\\x81®é\\x80\\x9aã\\x82\\x8aã\\x81§ã\\x81\\x99ã\\x80\\x82 [...] ã\\x81\\x93ã\\x81®ä¾\\x8bã\\x81§ã\\x81¯ `messages` ã\\x81¨ `next` ã\\x82\\x92æ\\x8c\\x81ã\\x81£ã\\x81¦ã\\x81\\x84ã\\x81¾ã\\x81\\x99ã\\x81\\x8cã\\x80\\x81ã\\x82¢ã\\x83\\x97ã\\x83ªã\\x82±ã\\x83¼ã\\x82·ã\\x83§ã\\x83³ã\\x81«å¿\\x9cã\\x81\\x98ã\\x81¦å¿\\x85è¦\\x81ã\\x81ªå\\x80¤ã\\x82\\x92æ\\x8c\\x81ã\\x81\\x9fã\\x81\\x9bã\\x82\\x8bã\\x81\\x93ã\\x81¨ã\\x81\\x8cã\\x81§ã\\x81\\x8dã\\x81¾ã\\x81\\x99ã\\x80\\x82\\n\\n`messages`\\n`next`\\n\\nã\\x81¾ã\\x81\\x9fã\\x80\\x81ã\\x81\\x93ã\\x81\\x93ã\\x81§å®\\x9aç¾©ã\\x81\\x97ã\\x81\\x9få\\x80¤ã\\x81¯ `Node` ã\\x81«ã\\x82\\x88ã\\x81£ã\\x81¦æ\\x9b´æ\\x96° (è¿½å\\x8a ã\\x81¾ã\\x81\\x9fã\\x81¯ä¸\\x8aæ\\x9b¸ã\\x81\\x8d) ã\\x81\\x95ã\\x82\\x8cã\\x81¾ã\\x81\\x99ã\\x80\\x82  \\nä¸\\x8aè¨\\x98ã\\x81®ä¾\\x8bã\\x81®å ´å\\x90\\x88ã\\x81¯ `message` ã\\x81¸ã\\x81®è¿½å\\x8a ã\\x81¨ `next` ã\\x81®ä¸\\x8aæ\\x9b¸ã\\x81\\x8dã\\x81\\x8cè¡\\x8cã\\x82\\x8fã\\x82\\x8cã\\x82\\x8bã\\x81\\x93ã\\x81¨ã\\x82\\x92æ\\x83³å®\\x9aã\\x81\\x97ã\\x81¦ã\\x81\\x84ã\\x81¾ã\\x81\\x99ã\\x80\\x82\\n\\n`Node`\\n`message`\\n`next`\\n\\n## Node'}]"
      ]
     },
     "execution_count": 3,
     "metadata": {},
     "output_type": "execute_result"
    }
   ],
   "source": [
    "tool.invoke(\"Langgraphのノードとは？\")"
   ]
  },
  {
   "cell_type": "code",
   "execution_count": 4,
   "id": "5151e684",
   "metadata": {},
   "outputs": [
    {
     "data": {
      "text/plain": [
       "<langgraph.graph.state.StateGraph at 0x107ab4230>"
      ]
     },
     "execution_count": 4,
     "metadata": {},
     "output_type": "execute_result"
    }
   ],
   "source": [
    "from typing import Annotated\n",
    "from typing_extensions import TypedDict\n",
    "from langgraph.graph import StateGraph\n",
    "from langgraph.graph.message import add_messages\n",
    "\n",
    "# Stateクラスの定義\n",
    "class State(TypedDict):\n",
    "    messages: Annotated[list, add_messages]\n",
    "\n",
    "# グラフのインスタンスを作成\n",
    "graph_builder = StateGraph(State)\n",
    "\n",
    "# 言語モデルの定義\n",
    "llm = ChatOpenAI(model_name=MODEL_NAME)\n",
    "\n",
    "# 変更点：ツール定義の紐づけ\n",
    "llm_with_tools = llm.bind_tools(tools)\n",
    "\n",
    "# チャットボットノードの作成\n",
    "def chatbot(state: State):\n",
    "    return {\"messages\": [llm_with_tools.invoke(state[\"messages\"])]}\n",
    "\n",
    "# グラフにチャットボットノードを追加\n",
    "graph_builder.add_node(\"chatbot\", chatbot)"
   ]
  },
  {
   "cell_type": "code",
   "execution_count": 5,
   "id": "016b6b99",
   "metadata": {},
   "outputs": [],
   "source": [
    "from langgraph.prebuilt import ToolNode, tools_condition\n",
    "from langgraph.checkpoint.memory import MemorySaver\n",
    "\n",
    "# ツールノードの作成\n",
    "tool_node = ToolNode(tools)\n",
    "\n",
    "# グラフにツールノードを追加\n",
    "graph_builder.add_node(\"tools\", tool_node)\n",
    "\n",
    "# 条件付エッジの作成\n",
    "graph_builder.add_conditional_edges(\n",
    "    \"chatbot\",\n",
    "    tools_condition, # ツール呼出と判断したらツールノードを呼ぶ\n",
    ")\n",
    "\n",
    "# ツールが呼び出されるたびに、チャットボットに戻って次のステップを決定\n",
    "# ツールからチャットボットへの戻りエッジを作成\n",
    "graph_builder.add_edge(\"tools\", \"chatbot\")\n",
    "\n",
    "# 開始ノードの指定\n",
    "graph_builder.set_entry_point(\"chatbot\")\n",
    "\n",
    "# 記憶を持つ実行可能なステートグラフの作成\n",
    "memory = MemorySaver()\n",
    "graph = graph_builder.compile(checkpointer=memory)"
   ]
  },
  {
   "cell_type": "code",
   "execution_count": 6,
   "id": "1ae74092",
   "metadata": {},
   "outputs": [
    {
     "data": {
      "image/png": "[encoded data removed]",
      "text/plain": [
       "<IPython.core.display.Image object>"
      ]
     },
     "metadata": {},
     "output_type": "display_data"
    }
   ],
   "source": [
    "# グラフの可視化\n",
    "from IPython.display import Image, display\n",
    "\n",
    "display(Image(graph.get_graph().draw_mermaid_png()))"
   ]
  },
  {
   "cell_type": "code",
   "execution_count": null,
   "id": "c32f5ea9",
   "metadata": {},
   "outputs": [
    {
     "name": "stdout",
     "output_type": "stream",
     "text": [
      "こんにちは！\n",
      "こんにちは！今日はどんなことをお手伝いできますか？\n",
      "1足す2は？\n",
      "1足す2は3です。何か他に質問がありますか？\n",
      "1メートル以上の魚は？\n",
      "\n",
      "[{\"url\": \"https://tsurihack.com/1870\", \"content\": \"LINE公式アカウント 最新の釣り情報をチェック！ 友だち追加はこちら\\n![TSURI HACK[釣りハック]](\\nMENU\\n日本三大怪魚の画像\\n\\n# 日本三大怪魚とは？その種類と特徴、釣ることはできるのか！\\n\\n日本三大怪魚。1メートルを超える巨大な魚体と、希少さから釣り人から幻の魚ともよばれる3種。大型魚に魅了された怪魚ハンターの様に、釣ってみたいと考える方もいらっしゃるのではないでしょうか。今回、日本三大怪魚の各種をご紹介します。\\n\\n2023/06/20 更新\\n\\n本ページはアフィリエイトプログラムを利用しています。\\n\\nTSURI HACK編集部\\n\\n編集者\\n\\nTSURI HACK編集部\\n\\n釣り歴20年のTSURI HACK運営＆記事編集担当。年間1000を超える記事を配信するため、海から川・湖、エサ釣りからルアーまで幅広い釣り用品に触れています。公式SNSでも最新情報から編集部のインプレッションまで絶賛配信中！\\n\\nAngler@ライター\\n\\n制作者\\n\\nAngler@ライター [...] 渓流からバス釣り、シーバス、ロックフィッシュ、五目釣りからチヌのヘチ釣りまで、ジャンルを問わず関東地方のフィールドを釣り歩いています。子供の頃から大の釣り好き。今までの経験を元に釣りの楽しさや魅力を多くの人に伝えていきたいと思っています。よろしくお願いいたします。\\n\\n目次\\n\\n## 日本三大怪魚とは\\n\\nクエッションの画像\\n\\nクエッションの画像\\n\\n日本の限られた地域にのみ生息し、1メートルを超える大型に成長する「日本三大怪魚」。その稀少さと見た目から、国内では絶滅危惧類として指定される魚もいるほど。\\n\\n釣り人であればそんな夢の魚を一度は釣ってみたいのではないでしょうか。ここでは、三大怪魚を一種ずつご紹介し、狙い方などを説明いたします。\\n\\n日本怪魚をハンティングする密着DVD！  \\n\\n日本怪魚物語 Vol.1\\n\\nに指定されています。\\n\\n東南アジア近隣に生息するバラマンディ―の近縁種で、暗い場所で光を目に当てると赤く光ることが名前の由来。多くのルアーマンたちの憧れのターゲットです。\\n\\n### 生態 [...] 最大記録は昭和12年に北海道十勝川で約2.1メートルのイトウが捕獲されています。メーター級に成長するまで10年以上を要すると言われており、その希少性もあいまって、幻の魚と呼ばれています。\\n\\n### 生態\\n\\nイトウは通常、流れの緩い河川を好み、サケと同様に降海性を持つ魚です。海に出た後の生態は未だに解明されておらず謎の魚。小さい個体は、カゲロウなどの水生昆虫を捕食しますが、水面に落ちた陸棲昆虫はあまり食べません。\\n\\n大きくなるとその個体は徐々に魚食性が表れ、共食いを含めて他の魚を捕食し、時に小動物をも襲うようになります。  \\n▼イトウ伝説やイトウ料理について紹介している記事です。  \\n\\nイトウはなぜ幻の魚？絶滅が危惧される日本の三大怪魚の生息域や釣り方\\n\\n2023/01/17山根央之\\n\\nイトウ\\n\\nイトウはなぜ幻の魚？絶滅が危惧される日本の三大怪魚の生息域や釣り方\\n\\n2023/01/17山根央之\\n\\nイトウ\\n\\n### イトウの釣り\\n\\nイトウ釣りの画像\"}, {\"url\": \"https://www.petballoon.net/page/72\", \"content\": \"ペットバルーン ネットショップ\\n\\n## 大型魚(淡水魚)\\n\\n中型魚から大型魚までを取り扱う特設ページとなります。  \\n人気種のポリプテルスやオスカー、ダトニオなど数多くの大型魚を在庫しており、変わった特殊個体も常に探し入荷させております。  \\n頻繁に最新入荷商品をアップいたしますので、是非ご覧下さい  \\nお取り寄せも行っておりますので、ネットショップ内に載っていない生体でもお気軽にお問い合わせください。\\n  \\n(こちらに無い淡水魚カテゴリーは左メニューのカテゴリ一覧からお探しください。)\\n\\n## 中型魚・大型魚カテゴリ\\n\\n大型魚(全商品)\\n\\n## オスカー\\n\\nワイルド オスカー\\n\\n改良品種 オスカー\\n\\n## ポリプテルス\\n\\nポリプテルス(ワイルド)\\n\\nポリプテルス(ブリード)\\n\\n## ピラニア.パクー(メチニス.ミレウス等)\\n\\nピラニア\\n\\nパクー(メチニス.ミレウス等)\\n\\n## ダトニオ\\n\\nダトニオ\\n\\n## スネークヘッド\\n\\nスネークヘッド\\n\\n## アロワナ\\n\\nアロワナ\\n\\nアジア（藍底過背金龍）\\n\\nアジアアロワナ（過背金龍）\\n\\nアジアアロワナ（高背金龍）\\n\\n## 淡水エイ\\n\\n淡水エイ [...] ## 肺魚.ナイフフィッシュ\\n\\n肺魚\\n\\nナイフフィッシュ\\n\\n## 特殊個体\\n\\n特殊個体\\n\\n## その他の淡水魚特集へ\\n\\nその他の淡水魚\\n\\n## 完全お取り寄せ(イメージイラスト)\\n\\n完全お取り寄せ(イメージイラスト)\\n\\n## カテゴリー特集ページ\\n\\n## カテゴリ一覧\\n\\n## 必見！連載コラム\"}]\n",
      "1メートル以上の魚には、特に「日本三大怪魚」と呼ばれる魚が含まれます。これらの魚は、1メートルを超える大型に成長し、希少性や見た目から釣り人には幻の魚とされています。以下にそれらの情報を紹介します。\n",
      "\n",
      "1. **イトウ**: 最大記録は約2.1メートルで、幻の魚として知られています。流れの緩い河川を好み、降海性を持つ魚です。\n",
      "2. **アロワナ**: 特にアジアアロワナは人気があり、サイズが大きくなる種類があります。\n",
      "3. **ナマズ**: 大型のナマズも1メートルを超えることがあります。\n",
      "\n",
      "詳細な情報は、[こちらの記事](https://tsurihack.com/1870)をご覧ください。また、淡水魚の大型魚を特集したページもあります。[こちらのリンク](https://www.petballoon.net/page/72)からご確認いただけます。\n",
      "\n",
      "他に知りたいことがあれば教えてください！\n",
      "ありがとうございました!\n"
     ]
    }
   ],
   "source": [
    "# グラフの実行と結果の表示\n",
    "def stream_graph_updates(user_input: str):\n",
    "    events = graph.stream(\n",
    "        {\"messages\": [(\"user\", user_input)]},\n",
    "        {\"configurable\": {\"thread_id\": \"1\"}},\n",
    "        stream_mode=\"values\")\n",
    "    # 結果をストリーミングで得る\n",
    "    for event in events:\n",
    "        print(event[\"messages\"][-1].content, flush=True)\n",
    "\n",
    "# チャットボットのループ\n",
    "while True:\n",
    "    user_input = input(\"質問:\")\n",
    "    if user_input.strip()==\"\":\n",
    "        print(\"ありがとうございました!\")\n",
    "        break\n",
    "    stream_graph_updates(user_input)"
   ]
  }
 ],
 "metadata": {
  "kernelspec": {
   "display_name": ".venv",
   "language": "python",
   "name": "python3"
  },
  "language_info": {
   "codemirror_mode": {
    "name": "ipython",
    "version": 3
   },
   "file_extension": ".py",
   "mimetype": "text/x-python",
   "name": "python",
   "nbconvert_exporter": "python",
   "pygments_lexer": "ipython3",
   "version": "3.12.4"
  }
 },
 "nbformat": 4,
 "nbformat_minor": 5
}
