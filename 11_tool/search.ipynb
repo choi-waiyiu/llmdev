{
 "cells": [
  {
   "cell_type": "code",
   "execution_count": 1,
   "id": "bdf13b95",
   "metadata": {},
   "outputs": [],
   "source": [
    "# 必要なモジュールをインポート\n",
    "import os\n",
    "import json\n",
    "from dotenv import load_dotenv\n",
    "from openai import OpenAI\n",
    "from openai.types.chat import ChatCompletionToolParam\n",
    "from tavily import TavilyClient\n",
    "\n",
    "# 環境変数の取得\n",
    "load_dotenv(\"../.env\")\n",
    "\n",
    "# OpenAI APIクライアントを生成\n",
    "client = OpenAI(api_key=os.environ['API_KEY'])\n",
    "\n",
    "# tavily検索用APIキーの取得\n",
    "TAVILY_API_KEY = os.environ['TAVILY_API_KEY']\n",
    "\n",
    "# モデル名\n",
    "MODEL_NAME = \"gpt-4o-mini\""
   ]
  },
  {
   "cell_type": "code",
   "execution_count": 2,
   "id": "a6d850c3",
   "metadata": {},
   "outputs": [],
   "source": [
    "# 検索結果を返す関数の作成\n",
    "def get_search_result(question):\n",
    "    client = TavilyClient(api_key=TAVILY_API_KEY)\n",
    "    response = client.search(question)\n",
    "    return json.dumps({\"result\": response[\"results\"]})"
   ]
  },
  {
   "cell_type": "code",
   "execution_count": 3,
   "id": "fcd573d1",
   "metadata": {},
   "outputs": [
    {
     "data": {
      "text/plain": [
       "{'result': [{'url': 'https://www.enjoytokyo.jp/event/list/area1306/',\n",
       "   'title': '東京駅周辺・丸の内でおすすめのイベント',\n",
       "   'content': '東京駅・丸の内の開催中または開催予定のイベントを紹介。おでかけに詳しい編集部がセレクトしました。気になるイベントは開催期間や開催場所、最寄駅、地図、料金など',\n",
       "   'score': 0.98558,\n",
       "   'raw_content': None},\n",
       "  {'url': 'https://www.walkerplus.com/event_list/ar0313/sc309880d/',\n",
       "   'title': '東京駅(東京都)周辺のイベント',\n",
       "   'content': '東京駅(東京都)周辺で開催されるイベント情報30件をお届けします。今日開催されているイベントはもちろん、週末の「どこ行こう」に役立つ情報が満載！',\n",
       "   'score': 0.98265,\n",
       "   'raw_content': None},\n",
       "  {'url': 'https://www.enjoytokyo.jp/event/list/sta200101/its04/',\n",
       "   'title': '今日行ける！東京駅周辺のおすすめイベント',\n",
       "   'content': '「東京駅周辺 今日」の開催中または開催予定のイベントを紹介。おでかけに詳しい編集部がセレクトしました。気になるイベントは開催期間や開催場所、最寄駅、地図、',\n",
       "   'score': 0.98068,\n",
       "   'raw_content': None},\n",
       "  {'url': 'https://marunouchi.jp-kitte.jp/event/eventnews.jsp',\n",
       "   'title': 'イベント＆ニュース｜KITTE丸の内 | JR・丸ノ内線 東京駅に ...',\n",
       "   'content': '開催日時, 8月19日（火）～8月20日（水）11:00~18:00. 場所, B1F 東京シティアイパフォーマンスゾーン. SEE MORE · イベント写真. イベント. Special EVENT「KITTE座 昭和祭',\n",
       "   'score': 0.97265,\n",
       "   'raw_content': None},\n",
       "  {'url': 'https://www.tokyoeki-1bangai.co.jp/',\n",
       "   'title': '東京駅一番街',\n",
       "   'content': 'テレビ局ショップや人気キャラクターショップなどが集まった観光スポット！ · 東京を代表するお店やご当地の名店が、東京駅に大集合！ · おかしのアンテナショップが大集合！',\n",
       "   'score': 0.9678,\n",
       "   'raw_content': None}]}"
      ]
     },
     "execution_count": 3,
     "metadata": {},
     "output_type": "execute_result"
    }
   ],
   "source": [
    "# テスト用コード\n",
    "ret = get_search_result(\"東京駅のイベントを教えて\")\n",
    "json.loads(ret)"
   ]
  },
  {
   "cell_type": "code",
   "execution_count": 16,
   "id": "7f902ea3",
   "metadata": {},
   "outputs": [],
   "source": [
    "# ツール定義\n",
    "def define_tools():\n",
    "    return [\n",
    "        ChatCompletionToolParam({\n",
    "            \"type\": \"function\",\n",
    "            \"function\": {\n",
    "                \"name\": \"get_search_result\",\n",
    "                \"description\": \"指定した質問文の検索結果を取得する\",\n",
    "                \"parameters\": {\n",
    "                    \"type\": \"object\",\n",
    "                    \"properties\": {\n",
    "                        \"question\": {\"type\": \"string\", \"description\": \"質問文\"},\n",
    "                    },\n",
    "                    \"required\": [\"question\"],\n",
    "                },\n",
    "            },\n",
    "        })\n",
    "    ]"
   ]
  },
  {
   "cell_type": "code",
   "execution_count": 19,
   "id": "c0c90dc5",
   "metadata": {},
   "outputs": [],
   "source": [
    "# 言語モデルへの質問を行う関数\n",
    "def ask_question(messages, tools):\n",
    "    response = client.chat.completions.create(\n",
    "        model=MODEL_NAME,\n",
    "        messages=messages,\n",
    "        tools=tools,\n",
    "        tool_choice=\"auto\",\n",
    "    )\n",
    "    return response"
   ]
  },
  {
   "cell_type": "code",
   "execution_count": 20,
   "id": "47e58dbc",
   "metadata": {},
   "outputs": [],
   "source": [
    "# ツール呼び出しが必要な場合の処理を行う関数\n",
    "def handle_tool_call(response, messages):\n",
    "    # 関数の実行と結果取得\n",
    "    tool = response.choices[0].message.tool_calls[0]\n",
    "    function_name = tool.function.name\n",
    "    arguments = json.loads(tool.function.arguments)\n",
    "    function_response = globals()[function_name](**arguments)\n",
    "\n",
    "    messages.append(response.choices[0].message)\n",
    "    messages.append({\n",
    "                \"tool_call_id\": tool.id,\n",
    "                \"role\": \"tool\",\n",
    "                \"content\": function_response,\n",
    "            })\n",
    "\n",
    "    # 関数の実行結果をmessagesに加えて再度言語モデルを呼出\n",
    "    response_after_tool_call = client.chat.completions.create(\n",
    "        model=MODEL_NAME,\n",
    "        messages=messages\n",
    "    )\n",
    "    return response_after_tool_call"
   ]
  },
  {
   "cell_type": "code",
   "execution_count": 21,
   "id": "5480ff2d",
   "metadata": {},
   "outputs": [],
   "source": [
    "# ユーザーからの質問を処理する関数\n",
    "def process_response(messages, tools):\n",
    "    response = ask_question(messages, tools)\n",
    "\n",
    "    if response.choices[0].finish_reason == 'tool_calls':\n",
    "        # ツール呼出の場合\n",
    "        final_response = handle_tool_call(response, messages)\n",
    "        return final_response.choices[0].message.content.strip()\n",
    "    else:\n",
    "        # 言語モデルが直接回答する場合\n",
    "        return response.choices[0].message.content.strip()"
   ]
  },
  {
   "cell_type": "code",
   "execution_count": 24,
   "id": "d722b978",
   "metadata": {},
   "outputs": [
    {
     "data": {
      "text/plain": [
       "'質問:こんにちは！'"
      ]
     },
     "metadata": {},
     "output_type": "display_data"
    },
    {
     "name": "stdout",
     "output_type": "stream",
     "text": [
      "こんちわ！なんかお手伝いできることあるべか？\n"
     ]
    },
    {
     "data": {
      "text/plain": [
       "'質問:東北6県は？'"
      ]
     },
     "metadata": {},
     "output_type": "display_data"
    },
    {
     "name": "stdout",
     "output_type": "stream",
     "text": [
      "東北6県は、青森県、岩手県、宮城県、秋田県、山形県、福島県だべな。何か他に聞きたいことあったら教えてけろ！\n"
     ]
    },
    {
     "data": {
      "text/plain": [
       "'質問:早口言葉を話してください'"
      ]
     },
     "metadata": {},
     "output_type": "display_data"
    },
    {
     "name": "stdout",
     "output_type": "stream",
     "text": [
      "いがった！じゃあ、ひとつやってみるべな。\n",
      "\n",
      "「生麦生米生卵」（なまむぎ・なまごめ・なまたまご）\n",
      "\n",
      "これを早口で言ってみると、なかなかむずかしいんだよな！おまえも挑戦してみるべか？\n",
      "\n",
      "---ご利用ありがとうございました！---\n"
     ]
    }
   ],
   "source": [
    "# チャットボットへの組み込み\n",
    "tools = define_tools()\n",
    "\n",
    "messages=[{\"role\": \"system\", \"content\": \"あなたは津軽弁で話します\"}]\n",
    "\n",
    "while(True):\n",
    "    # ユーザーからの質問を受付\n",
    "    question = input(\"メッセージを入力:\")\n",
    "    # 質問が入力されなければ終了\n",
    "    if question.strip()==\"\":\n",
    "        break\n",
    "    display(f\"質問:{question}\")\n",
    "\n",
    "    # メッセージにユーザーからの質問を追加\n",
    "    messages.append({\"role\": \"user\", \"content\": question.strip()})\n",
    "    # やりとりが8を超えたら古いメッセージから削除\n",
    "    if len(messages) > 8:\n",
    "        del_message = messages.pop(1)\n",
    "\n",
    "    # 言語モデルに質問\n",
    "    response_message = process_response(messages, tools)\n",
    "\n",
    "    # メッセージに言語モデルからの回答を追加\n",
    "    print(response_message, flush=True)\n",
    "    messages.append({\"role\": \"assistant\", \"content\": response_message})\n",
    "\n",
    "print(\"\\n---ご利用ありがとうございました！---\")"
   ]
  }
 ],
 "metadata": {
  "kernelspec": {
   "display_name": ".venv",
   "language": "python",
   "name": "python3"
  },
  "language_info": {
   "codemirror_mode": {
    "name": "ipython",
    "version": 3
   },
   "file_extension": ".py",
   "mimetype": "text/x-python",
   "name": "python",
   "nbconvert_exporter": "python",
   "pygments_lexer": "ipython3",
   "version": "3.12.4"
  }
 },
 "nbformat": 4,
 "nbformat_minor": 5
}
